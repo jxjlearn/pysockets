{
 "cells": [
  {
   "cell_type": "code",
   "execution_count": 10,
   "metadata": {
    "ExecuteTime": {
     "end_time": "2016-08-10T23:27:20.918635",
     "start_time": "2016-08-10T23:27:20.870975"
    },
    "collapsed": false
   },
   "outputs": [
    {
     "name": "stderr",
     "output_type": "stream",
     "text": [
      "connecting to localhost port 6666\n"
     ]
    },
    {
     "ename": "error",
     "evalue": "[Errno 111] Connection refused",
     "output_type": "error",
     "traceback": [
      "\u001b[0;31m---------------------------------------------------------------------------\u001b[0m",
      "\u001b[0;31merror\u001b[0m                                     Traceback (most recent call last)",
      "\u001b[0;32m<ipython-input-10-c776375ab808>\u001b[0m in \u001b[0;36m<module>\u001b[0;34m()\u001b[0m\n\u001b[1;32m     23\u001b[0m \u001b[0mserver_address\u001b[0m \u001b[0;34m=\u001b[0m \u001b[0;34m(\u001b[0m\u001b[0;34m'localhost'\u001b[0m\u001b[0;34m,\u001b[0m \u001b[0;36m6666\u001b[0m\u001b[0;34m)\u001b[0m\u001b[0;34m\u001b[0m\u001b[0m\n\u001b[1;32m     24\u001b[0m \u001b[0;32mprint\u001b[0m \u001b[0;34m>>\u001b[0m\u001b[0msys\u001b[0m\u001b[0;34m.\u001b[0m\u001b[0mstderr\u001b[0m\u001b[0;34m,\u001b[0m \u001b[0;34m'connecting to %s port %s'\u001b[0m \u001b[0;34m%\u001b[0m \u001b[0mserver_address\u001b[0m\u001b[0;34m\u001b[0m\u001b[0m\n\u001b[0;32m---> 25\u001b[0;31m \u001b[0mclientsocket\u001b[0m\u001b[0;34m.\u001b[0m\u001b[0mconnect\u001b[0m\u001b[0;34m(\u001b[0m\u001b[0mserver_address\u001b[0m\u001b[0;34m)\u001b[0m\u001b[0;34m\u001b[0m\u001b[0m\n\u001b[0m\u001b[1;32m     26\u001b[0m \u001b[0;34m\u001b[0m\u001b[0m\n\u001b[1;32m     27\u001b[0m \u001b[0;31m#Send the message after the connection is established\u001b[0m\u001b[0;34m\u001b[0m\u001b[0;34m\u001b[0m\u001b[0m\n",
      "\u001b[0;32m/usr/lib/python2.7/socket.pyc\u001b[0m in \u001b[0;36mmeth\u001b[0;34m(name, self, *args)\u001b[0m\n\u001b[1;32m    226\u001b[0m \u001b[0;34m\u001b[0m\u001b[0m\n\u001b[1;32m    227\u001b[0m \u001b[0;32mdef\u001b[0m \u001b[0mmeth\u001b[0m\u001b[0;34m(\u001b[0m\u001b[0mname\u001b[0m\u001b[0;34m,\u001b[0m\u001b[0mself\u001b[0m\u001b[0;34m,\u001b[0m\u001b[0;34m*\u001b[0m\u001b[0margs\u001b[0m\u001b[0;34m)\u001b[0m\u001b[0;34m:\u001b[0m\u001b[0;34m\u001b[0m\u001b[0m\n\u001b[0;32m--> 228\u001b[0;31m     \u001b[0;32mreturn\u001b[0m \u001b[0mgetattr\u001b[0m\u001b[0;34m(\u001b[0m\u001b[0mself\u001b[0m\u001b[0;34m.\u001b[0m\u001b[0m_sock\u001b[0m\u001b[0;34m,\u001b[0m\u001b[0mname\u001b[0m\u001b[0;34m)\u001b[0m\u001b[0;34m(\u001b[0m\u001b[0;34m*\u001b[0m\u001b[0margs\u001b[0m\u001b[0;34m)\u001b[0m\u001b[0;34m\u001b[0m\u001b[0m\n\u001b[0m\u001b[1;32m    229\u001b[0m \u001b[0;34m\u001b[0m\u001b[0m\n\u001b[1;32m    230\u001b[0m \u001b[0;32mfor\u001b[0m \u001b[0m_m\u001b[0m \u001b[0;32min\u001b[0m \u001b[0m_socketmethods\u001b[0m\u001b[0;34m:\u001b[0m\u001b[0;34m\u001b[0m\u001b[0m\n",
      "\u001b[0;31merror\u001b[0m: [Errno 111] Connection refused"
     ]
    }
   ],
   "source": [
    "import socket\n",
    "import sys\n",
    "\n",
    "if len(sys.argv) >3:\n",
    "    print >>sys.stderr, \"Usage: master-socket-cilent-send <message>\\n master-socket-client-send -f <file path>\"\n",
    "    exit(-1) \n",
    "elif len(sys.argv) == 3:\n",
    "    script, parameter, messageFile = sys.argv\n",
    "    if parameter == '-f':   \n",
    "        with open(messageFile) as msgfile:\n",
    "            messageTosend = msgfile.read().replace('\\n', '')\n",
    "    else:\n",
    "        print >>sys.stderr, \"Usage: master-socket-cilent-send <message>\\n master-socket-client-send -f <file path>\"\n",
    "        exit(-1)   \n",
    "elif len(sys.argv) == 2:\n",
    "    script, messageTosend = sys.argv\n",
    "else:\n",
    "    messageTosend = 'This is the message. It will be repeated.'\n",
    "#Create a TCP/IP client\n",
    "clientsocket = socket.socket(socket.AF_INET, socket.SOCK_STREAM)\n",
    "\n",
    "#Connect the client to the server; make sure server is running\n",
    "server_address = ('localhost', 6666)\n",
    "print >>sys.stderr, 'connecting to %s port %s' % server_address\n",
    "clientsocket.connect(server_address)\n",
    "\n",
    "#Send the message after the connection is established\n",
    "try:\n",
    "    #Send data\n",
    "    print >>sys.stderr, 'sending \"%s\"' % messageTosend\n",
    "    clientsocket.sendall(messageTosend)\n",
    "    \n",
    "    #Look for the response\n",
    "    amount_received = 0\n",
    "    amount_expected = len(messageTosend)\n",
    "    \n",
    "    while amount_received < amount_expected:\n",
    "        data = clientsocket.recv(16)\n",
    "        amount_received += len(data)\n",
    "        print >>sys.stderr, 'received \"%s\"' % data\n",
    "        \n",
    "finally:\n",
    "    print >>sys.stderr, 'closing client'\n",
    "    clientsocket.close()\n"
   ]
  },
  {
   "cell_type": "code",
   "execution_count": null,
   "metadata": {
    "collapsed": true
   },
   "outputs": [],
   "source": []
  }
 ],
 "metadata": {
  "kernelspec": {
   "display_name": "Python 2",
   "language": "python",
   "name": "python2"
  },
  "language_info": {
   "codemirror_mode": {
    "name": "ipython",
    "version": 2
   },
   "file_extension": ".py",
   "mimetype": "text/x-python",
   "name": "python",
   "nbconvert_exporter": "python",
   "pygments_lexer": "ipython2",
   "version": "2.7.12"
  },
  "nav_menu": {},
  "toc": {
   "navigate_menu": true,
   "number_sections": true,
   "sideBar": true,
   "threshold": 6,
   "toc_cell": false,
   "toc_section_display": "block",
   "toc_window_display": false
  }
 },
 "nbformat": 4,
 "nbformat_minor": 0
}
