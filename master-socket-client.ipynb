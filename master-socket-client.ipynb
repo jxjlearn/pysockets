{
 "cells": [
  {
   "cell_type": "code",
   "execution_count": null,
   "metadata": {
    "collapsed": true
   },
   "outputs": [],
   "source": [
    "import socket\n",
    "import sys\n",
    "\n",
    "#Create a TCP/IP client\n",
    "clientsocket = socket.socket(socket.AF_INET, socket.SOCK_STREAM)\n",
    "\n",
    "#Connect the client to the server; make sure server is running\n",
    "server_address = ('localhost', 6666)\n",
    "print >>sys.stderr, 'connecting to %s port %s' % server_address\n",
    "clientsocket.connect(server_address)\n",
    "\n",
    "#Send the message after the connection is established\n",
    "try:\n",
    "    #Send data\n",
    "    message = 'This is the message. It will be repeated'\n",
    "    print >>sys.stderr, 'sending \"%s\"' % message\n",
    "    clientsocket.sendall(message)\n",
    "    \n",
    "    #Look for the response\n",
    "    amount_received = 0\n",
    "    amount_expected = len(message)\n",
    "    \n",
    "    while amount_received < amount_expected:\n",
    "        data = clientsocket.recv(16)\n",
    "        amount_received += len(data)\n",
    "        print >>sys.stderr, 'received \"%s\"' % data\n",
    "        \n",
    "finally:\n",
    "    print >>sys.stderr, 'closing client'\n",
    "    clientsocket.close()\n"
   ]
  }
 ],
 "metadata": {
  "kernelspec": {
   "display_name": "Python 2",
   "language": "python",
   "name": "python2"
  },
  "language_info": {
   "codemirror_mode": {
    "name": "ipython",
    "version": 2
   },
   "file_extension": ".py",
   "mimetype": "text/x-python",
   "name": "python",
   "nbconvert_exporter": "python",
   "pygments_lexer": "ipython2",
   "version": "2.7.12"
  },
  "nav_menu": {},
  "toc": {
   "navigate_menu": true,
   "number_sections": true,
   "sideBar": true,
   "threshold": 6,
   "toc_cell": false,
   "toc_section_display": "block",
   "toc_window_display": false
  }
 },
 "nbformat": 4,
 "nbformat_minor": 0
}
